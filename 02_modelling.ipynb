{
 "cells": [
  {
   "cell_type": "markdown",
   "metadata": {},
   "source": [
    "# Executive Summary"
   ]
  },
  {
   "cell_type": "markdown",
   "metadata": {},
   "source": [
    "in certain industries, long-term reservations and then cancellations\n",
    "<br>\n",
    "\n",
    "Data source is from: \n",
    "<br>\n",
    "\n",
    "Helping to create more accurate predictions. \n"
   ]
  },
  {
   "cell_type": "markdown",
   "metadata": {},
   "source": [
    "# Technical Summary"
   ]
  },
  {
   "cell_type": "markdown",
   "metadata": {},
   "source": [
    "\n",
    "\n",
    "__Data separation__: \n",
    "<br>\n",
    "\n",
    "We want to keep everything consistent, and bring under the same framework\n",
    "<br>\n",
    "\n",
    "main issue: logreg needs first dummies dropped, decision tree does need all the dummies\n",
    "this is the nameing that we are going to use, `_logreg` is a data where the first dummies are dropped, `_dtree` where it is not. different models can be used, but these two are the main underlying ones, hence our naming decision\n",
    "\n",
    "- as a first step, we get an even sample of df, where prevalence = 0.5\n",
    "- `y` is the `IsCanceled` column of the data, `X_orig` is everything else\n",
    "- there are two differnt types of datasets that we need. for logreg, no full dummy, scaled, for dtree, full dummy, not scaled, we are calling these `_logreg` and `_dtree`\n",
    "- under both routes, we separate 3k observations for final testing (not to be touched until the end of the project with the final model), and 3k observations for validating each of the models\n",
    "- in summary, we will have six data - target pairs: `_train_logreg`, `_valid_logreg`, `_test_logreg`, `_train_dtree`, `_valid_dtree`, `_test_dtree`.  \n",
    "\n",
    "\n",
    "__Model selection__: \n",
    "<br>\n",
    "\n",
    "- for each model type, we are first using a `GridsearchCV` method with cross-validation being the same `cv` object, `roc_auc` being the score, parameters are model-specific, on the corresponding `_train` data\n",
    "- once we have a model, we consider the threshold we need to set - see Section 3.3 for more details\n",
    "- the chosen model of the specific type will be then fit on the whole X_train population, with the calculated hyperparameters\n",
    "- we check how well the model performs on the `_valid` datasets\n",
    "- we are calculating all the usual scores (accuracy, f1, auc, etc), but the score we will make our decision based on is the zweig_campbell score, which equals True Positive Rate - m * False Positive Rate\n",
    "- this process is repeated for the different model types, we pick the best one at the end, and compare how it performs against the test data"
   ]
  },
  {
   "cell_type": "markdown",
   "metadata": {},
   "source": [
    "# Setting up the Infrastructure"
   ]
  },
  {
   "cell_type": "markdown",
   "metadata": {},
   "source": [
    "Importing libraries, getting data in, creating databases, considering threshold"
   ]
  },
  {
   "cell_type": "code",
   "execution_count": 223,
   "metadata": {},
   "outputs": [],
   "source": [
    "import pandas as pd\n",
    "import numpy as np\n",
    "\n",
    "import matplotlib.pyplot as plt\n",
    "import pydotplus\n",
    "from IPython.display import Image  \n",
    "\n",
    "from sklearn.metrics import SCORERS, precision_score, recall_score, \\\n",
    "    accuracy_score, f1_score, roc_curve, auc, confusion_matrix, roc_auc_score\n",
    "\n",
    "from sklearn.preprocessing import StandardScaler\n",
    "\n",
    "from sklearn.model_selection import train_test_split, cross_val_score, \\\n",
    "    cross_validate, cross_val_predict, KFold, GridSearchCV\n",
    "\n",
    "from sklearn.neighbors import KNeighborsClassifier\n",
    "\n",
    "from sklearn.linear_model import LogisticRegression\n",
    "\n",
    "from sklearn.tree import DecisionTreeClassifier, export_graphviz\n",
    "\n",
    "from sklearn.ensemble import RandomForestClassifier\n",
    "\n",
    "from xgboost import XGBClassifier"
   ]
  },
  {
   "cell_type": "code",
   "execution_count": 5,
   "metadata": {},
   "outputs": [],
   "source": [
    "# read in dataset\n",
    "df = pd.read_csv('H1_clean.csv')\n",
    "\n",
    "# get an even sample, get rows where cancel = 1, randomly select the same amount of cancel = 0, concat\n",
    "df_canc = df[df['IsCanceled'] == 1]\n",
    "rownum = len(df_canc)\n",
    "df_noncanc = df[df['IsCanceled'] == 0]\n",
    "df_noncanc = df_noncanc.sample(n = rownum)\n",
    "df = pd.concat([df_canc, df_noncanc])\n",
    "\n",
    "# set random seed, to be used for the whole project for reproducability\n",
    "random_seed = 12345\n",
    "np.random.seed(random_seed)\n",
    "\n",
    "# set cross-validation, to be kept fixed\n",
    "cv = KFold(n_splits = 5, shuffle = True, random_state = random_seed)\n",
    "\n",
    "X_orig = df.drop('IsCanceled', axis = 1)\n",
    "y = df['IsCanceled']"
   ]
  },
  {
   "cell_type": "markdown",
   "metadata": {},
   "source": [
    "## Data - First Dummies Dropped, Scaled"
   ]
  },
  {
   "cell_type": "markdown",
   "metadata": {},
   "source": [
    "We need to keep logreg data separate from the others,  significant portion is the dummies and we have to drop the first to avoid perfect linear dependence between columns. \n",
    "<br>\n",
    "\n",
    "Also, this type is scaled. "
   ]
  },
  {
   "cell_type": "code",
   "execution_count": 150,
   "metadata": {},
   "outputs": [],
   "source": [
    "X = pd.get_dummies(X_orig, drop_first = True)\n",
    "\n",
    "# splitting first for train - test\n",
    "X_train_logreg, X_test_logreg, y_train_logreg, y_test_logreg = \\\n",
    "    train_test_split(\n",
    "        X, y, test_size=3000, random_state = random_seed\n",
    "    )\n",
    "\n",
    "# then, splitting for train - validation\n",
    "X_train_logreg, X_valid_logreg, y_train_logreg, y_valid_logreg = \\\n",
    "    train_test_split(\n",
    "        X_train_logreg, y_train_logreg, test_size = 3000, random_state = random_seed\n",
    "    )\n",
    "\n",
    "# finally, scaling\n",
    "scaler_logreg = StandardScaler()\n",
    "X_train_logreg = scaler_logreg.fit_transform(X_train_logreg)\n",
    "\n",
    "X_valid_logreg = scaler_logreg.transform(X_valid_logreg)\n",
    "X_test_logreg = scaler_logreg.transform(X_test_logreg)"
   ]
  },
  {
   "cell_type": "markdown",
   "metadata": {},
   "source": [
    "## Data - First Dummies Not Dropped, Not Scaled"
   ]
  },
  {
   "cell_type": "markdown",
   "metadata": {},
   "source": [
    "Primarily for decision tree type of models. "
   ]
  },
  {
   "cell_type": "code",
   "execution_count": 122,
   "metadata": {},
   "outputs": [],
   "source": [
    "X = pd.get_dummies(X_orig, drop_first = True)\n",
    "\n",
    "# splitting first for train - test\n",
    "X_train_dtree, X_test_dtree, y_train_dtree, y_test_dtree = \\\n",
    "    train_test_split(\n",
    "        X, y, test_size=3000, random_state = random_seed\n",
    "    )\n",
    "\n",
    "# then, splitting for train - validation\n",
    "X_train_dtree, X_valid_dtree, y_train_dtree, y_valid_dtree = \\\n",
    "    train_test_split(\n",
    "        X_train_dtree, y_train_dtree, test_size = 3000, random_state = random_seed\n",
    "    )"
   ]
  },
  {
   "cell_type": "markdown",
   "metadata": {},
   "source": [
    "These should match, because we are using the same random seed. Wouldn't hurt the model's performance to keep these random, but just to check that we are indeed on the same split: "
   ]
  },
  {
   "cell_type": "code",
   "execution_count": 123,
   "metadata": {},
   "outputs": [
    {
     "data": {
      "text/plain": [
       "0"
      ]
     },
     "execution_count": 123,
     "metadata": {},
     "output_type": "execute_result"
    }
   ],
   "source": [
    "(y_train_dtree != y_train_logreg).sum()"
   ]
  },
  {
   "cell_type": "markdown",
   "metadata": {},
   "source": [
    "## Threshold Selection Parameter"
   ]
  },
  {
   "cell_type": "markdown",
   "metadata": {},
   "source": [
    "Picking a threshold. \n",
    "<br>\n",
    "\n",
    "m = (1 - prevalence) / prevalence * (CFP - CTN) / (CFN - CTP)\n",
    "<br>\n",
    "\n",
    "we have a balanced set, so prevalence is around 0.5 -> first item is around 1\n",
    "<br> \n",
    "\n",
    "Cost item: two aspects: overbooking, financial analysis accuracy. In overbooking, the cost of assuming they will cancel when in reality they show up is higher than assuming they will be there and they won't, because presumably we need to pay compensation. It's questionable how often this happens with hotels though. In financial analysis, it could be more detremential to assume higher prfoits than to use a conservative one. So it is worse to assume they will come when in reality they won't, which means the false negative is worse. \n",
    "They are in opposite direction. So the prediction function can be changed depending on the use of the model. \n",
    "<br> \n",
    "\n",
    "For now, we use the model for the financial forecast, which means we need to apply a \"conservativism score\". We want to minimize FN's - if we say someone does not cancel, we better be sure. This is ultimately a judgement call, we will use 1 / 1.5 now. The cost of assuming that someone will come when in fact they will cancel is assumed to be 50% more than the opposite. This means the logregression would focus on getting the FPs out, m = 1/1.5"
   ]
  },
  {
   "cell_type": "code",
   "execution_count": 124,
   "metadata": {},
   "outputs": [
    {
     "data": {
      "text/plain": [
       "0.8428607723577236"
      ]
     },
     "execution_count": 124,
     "metadata": {},
     "output_type": "execute_result"
    }
   ],
   "source": [
    "prevalence = sum(y_train_logreg) / len(y_train_logreg)\n",
    "cost_ratio = 1/1.2\n",
    "m = (1 - prevalence) / prevalence * cost_ratio\n",
    "m"
   ]
  },
  {
   "cell_type": "markdown",
   "metadata": {},
   "source": [
    "# Logistic Regression"
   ]
  },
  {
   "cell_type": "markdown",
   "metadata": {},
   "source": [
    "In this section, longreg on Searching for best estimator with grid search. "
   ]
  },
  {
   "cell_type": "code",
   "execution_count": 125,
   "metadata": {},
   "outputs": [],
   "source": [
    "logreg = LogisticRegression(solver='liblinear')"
   ]
  },
  {
   "cell_type": "markdown",
   "metadata": {},
   "source": [
    "## GSCV Iteration 1"
   ]
  },
  {
   "cell_type": "code",
   "execution_count": 126,
   "metadata": {},
   "outputs": [
    {
     "data": {
      "text/plain": [
       "GridSearchCV(cv=KFold(n_splits=5, random_state=12345, shuffle=True),\n",
       "             error_score=nan,\n",
       "             estimator=LogisticRegression(C=1.0, class_weight=None, dual=False,\n",
       "                                          fit_intercept=True,\n",
       "                                          intercept_scaling=1, l1_ratio=None,\n",
       "                                          max_iter=100, multi_class='auto',\n",
       "                                          n_jobs=None, penalty='l2',\n",
       "                                          random_state=None, solver='liblinear',\n",
       "                                          tol=0.0001, verbose=0,\n",
       "                                          warm_start=False),\n",
       "             iid='deprecated', n_jobs=None,\n",
       "             param_grid={'C': [1, 10, 100, 1000, 10000],\n",
       "                         'max_iter': [100, 1000], 'penalty': ['l1', 'l2']},\n",
       "             pre_dispatch='2*n_jobs', refit=True, return_train_score=False,\n",
       "             scoring='roc_auc', verbose=0)"
      ]
     },
     "execution_count": 126,
     "metadata": {},
     "output_type": "execute_result"
    }
   ],
   "source": [
    "param_grid = {\n",
    "    'C':[1, 10, 10**2, 10**3, 10**4], \n",
    "    'max_iter':[100, 1000],\n",
    "    'penalty': ['l1', 'l2']\n",
    "}\n",
    "\n",
    "gs_log = GridSearchCV(logreg, param_grid, scoring = 'roc_auc', cv = cv)\n",
    "\n",
    "gs_log.fit(X_train_logreg, y_train_logreg)"
   ]
  },
  {
   "cell_type": "code",
   "execution_count": 127,
   "metadata": {},
   "outputs": [
    {
     "data": {
      "text/plain": [
       "0.9123475891064039"
      ]
     },
     "execution_count": 127,
     "metadata": {},
     "output_type": "execute_result"
    }
   ],
   "source": [
    "gs_log.best_score_"
   ]
  },
  {
   "cell_type": "code",
   "execution_count": 128,
   "metadata": {},
   "outputs": [
    {
     "data": {
      "text/plain": [
       "LogisticRegression(C=1000, class_weight=None, dual=False, fit_intercept=True,\n",
       "                   intercept_scaling=1, l1_ratio=None, max_iter=100,\n",
       "                   multi_class='auto', n_jobs=None, penalty='l2',\n",
       "                   random_state=None, solver='liblinear', tol=0.0001, verbose=0,\n",
       "                   warm_start=False)"
      ]
     },
     "execution_count": 128,
     "metadata": {},
     "output_type": "execute_result"
    }
   ],
   "source": [
    "gs_log.best_estimator_"
   ]
  },
  {
   "cell_type": "markdown",
   "metadata": {},
   "source": [
    "Best logreg is with `C` = 1000, `max_iter` = 100, `penalty` = `l2` from the first grid. Picking new iteration variables around these. "
   ]
  },
  {
   "cell_type": "markdown",
   "metadata": {},
   "source": [
    "## GSCV Iteration 2"
   ]
  },
  {
   "cell_type": "code",
   "execution_count": 129,
   "metadata": {},
   "outputs": [
    {
     "data": {
      "text/plain": [
       "GridSearchCV(cv=KFold(n_splits=5, random_state=12345, shuffle=True),\n",
       "             error_score=nan,\n",
       "             estimator=LogisticRegression(C=1.0, class_weight=None, dual=False,\n",
       "                                          fit_intercept=True,\n",
       "                                          intercept_scaling=1, l1_ratio=None,\n",
       "                                          max_iter=100, multi_class='auto',\n",
       "                                          n_jobs=None, penalty='l2',\n",
       "                                          random_state=None, solver='liblinear',\n",
       "                                          tol=0.0001, verbose=0,\n",
       "                                          warm_start=False),\n",
       "             iid='deprecated', n_jobs=None,\n",
       "             param_grid={'C': [500, 1000, 5000], 'max_iter': [50, 100, 500],\n",
       "                         'penalty': ['l1', 'l2']},\n",
       "             pre_dispatch='2*n_jobs', refit=True, return_train_score=False,\n",
       "             scoring='roc_auc', verbose=0)"
      ]
     },
     "execution_count": 129,
     "metadata": {},
     "output_type": "execute_result"
    }
   ],
   "source": [
    "param_grid_2 = {\n",
    "    'C': [500, 1000, 5000], \n",
    "    'max_iter': [50, 100, 500],\n",
    "    'penalty': ['l1', 'l2']\n",
    "}\n",
    "\n",
    "gs_log_2 = GridSearchCV(logreg, param_grid_2, scoring = 'roc_auc', cv = cv)\n",
    "\n",
    "gs_log_2.fit(X_train_logreg, y_train_logreg)"
   ]
  },
  {
   "cell_type": "code",
   "execution_count": 130,
   "metadata": {},
   "outputs": [
    {
     "data": {
      "text/plain": [
       "0.9123479076917864"
      ]
     },
     "execution_count": 130,
     "metadata": {},
     "output_type": "execute_result"
    }
   ],
   "source": [
    "gs_log_2.best_score_"
   ]
  },
  {
   "cell_type": "code",
   "execution_count": 131,
   "metadata": {},
   "outputs": [
    {
     "data": {
      "text/plain": [
       "LogisticRegression(C=500, class_weight=None, dual=False, fit_intercept=True,\n",
       "                   intercept_scaling=1, l1_ratio=None, max_iter=50,\n",
       "                   multi_class='auto', n_jobs=None, penalty='l2',\n",
       "                   random_state=None, solver='liblinear', tol=0.0001, verbose=0,\n",
       "                   warm_start=False)"
      ]
     },
     "execution_count": 131,
     "metadata": {},
     "output_type": "execute_result"
    }
   ],
   "source": [
    "gs_log_2.best_estimator_"
   ]
  },
  {
   "cell_type": "markdown",
   "metadata": {},
   "source": [
    "Interesting how max iteration goes down. There is no significant change in the AUC, and the lower the max_iter, the simpler the model is. However, with lower `max_iter`, we risk the model not to converge, keeping it at 50. \n",
    "<br>\n",
    "\n",
    "No significant improvement, we are keeping it here. "
   ]
  },
  {
   "cell_type": "code",
   "execution_count": 132,
   "metadata": {},
   "outputs": [],
   "source": [
    "chosen_C = gs_log_2.best_estimator_.C\n",
    "chosen_max_iter = gs_log_2.best_estimator_.max_iter\n",
    "chosen_penalty = gs_log_2.best_estimator_.penalty"
   ]
  },
  {
   "cell_type": "markdown",
   "metadata": {},
   "source": [
    "## Fitting the Chosen Model & Threshold Selection"
   ]
  },
  {
   "cell_type": "code",
   "execution_count": 134,
   "metadata": {},
   "outputs": [
    {
     "data": {
      "text/plain": [
       "0.9144915498643965"
      ]
     },
     "execution_count": 134,
     "metadata": {},
     "output_type": "execute_result"
    }
   ],
   "source": [
    "logreg_chosen = LogisticRegression(\n",
    "    C = chosen_C, max_iter = chosen_max_iter, penalty = chosen_penalty, solver = 'liblinear'\n",
    "    )\n",
    "\n",
    "logreg_chosen.fit(X_train_logreg, y_train_logreg)\n",
    "\n",
    "y_train_prediction_probabilities_logreg = logreg_chosen.predict_proba(X_train_logreg)\n",
    "\n",
    "fpr_train_logreg, tpr_train_logreg, thresholds_train_logreg = \\\n",
    "    roc_curve(y_train_logreg, y_train_prediction_probabilities_logreg[:,1])\n",
    "\n",
    "auc(fpr_train_logreg, tpr_train_logreg)"
   ]
  },
  {
   "cell_type": "markdown",
   "metadata": {},
   "source": [
    "Performs a bit better on the whole data set, 0.912 above was from a cross-validated score. "
   ]
  },
  {
   "cell_type": "code",
   "execution_count": 135,
   "metadata": {},
   "outputs": [
    {
     "data": {
      "text/plain": [
       "0.43484214452380127"
      ]
     },
     "execution_count": 135,
     "metadata": {},
     "output_type": "execute_result"
    }
   ],
   "source": [
    "zweig_campbell_scores_train_logreg = \\\n",
    "    tpr_train_logreg - m * fpr_train_logreg\n",
    "\n",
    "chosen_threshold_logreg = \\\n",
    "    thresholds_train_logreg[np.argmax(zweig_campbell_scores_train_logreg)]\n",
    "\n",
    "chosen_threshold_logreg"
   ]
  },
  {
   "cell_type": "markdown",
   "metadata": {},
   "source": [
    "If the probability of canceling is above that, we say it is going to be cancelled. (So there is a relatively higher chance of classifying something as being cancelled.)\n",
    "\n",
    "Calculating train predictions in case we ever want to do a stacking model. "
   ]
  },
  {
   "cell_type": "code",
   "execution_count": 136,
   "metadata": {},
   "outputs": [],
   "source": [
    "y_train_prediction_logreg = (y_train_prediction_probabilities_logreg[:,1] > chosen_threshold_logreg) * 1"
   ]
  },
  {
   "cell_type": "markdown",
   "metadata": {},
   "source": [
    "## Validation and Visualisation"
   ]
  },
  {
   "cell_type": "markdown",
   "metadata": {},
   "source": [
    "We are checking the overfitting, calculating final test scores. "
   ]
  },
  {
   "cell_type": "code",
   "execution_count": 151,
   "metadata": {},
   "outputs": [],
   "source": [
    "y_valid_prediction_probabilities_logreg = \\\n",
    "    logreg_chosen.predict_proba(X_valid_logreg)\n",
    "\n",
    "fpr_valid_logreg, tpr_valid_logreg, thresholds_valid_logreg = \\\n",
    "    roc_curve(y_valid_logreg, y_valid_prediction_probabilities_logreg[:,1])"
   ]
  },
  {
   "cell_type": "markdown",
   "metadata": {},
   "source": [
    "Visualisation"
   ]
  },
  {
   "cell_type": "code",
   "execution_count": 152,
   "metadata": {},
   "outputs": [
    {
     "data": {
      "text/plain": [
       "[<matplotlib.lines.Line2D at 0x1a1e8797d0>]"
      ]
     },
     "execution_count": 152,
     "metadata": {},
     "output_type": "execute_result"
    },
    {
     "data": {
      "image/png": "[encoded data removed]",
      "text/plain": [
       "<Figure size 432x288 with 1 Axes>"
      ]
     },
     "metadata": {
      "needs_background": "light"
     },
     "output_type": "display_data"
    }
   ],
   "source": [
    "plt.plot(fpr_train_logreg, tpr_train_logreg)\n",
    "plt.plot(fpr_valid_logreg, tpr_valid_logreg)"
   ]
  },
  {
   "cell_type": "markdown",
   "metadata": {},
   "source": [
    "Prediction with chosen threshold"
   ]
  },
  {
   "cell_type": "code",
   "execution_count": 153,
   "metadata": {},
   "outputs": [],
   "source": [
    "y_valid_prediction_logreg = \\\n",
    "    (y_valid_prediction_probabilities_logreg[:,1] > chosen_threshold_logreg) * 1"
   ]
  },
  {
   "cell_type": "markdown",
   "metadata": {},
   "source": [
    "Scores"
   ]
  },
  {
   "cell_type": "code",
   "execution_count": 175,
   "metadata": {},
   "outputs": [],
   "source": [
    "# TODO PUT IN SEPARATE .PY FILE\n",
    "\n",
    "def calculate_scores(y_train_true, y_train_pred, y_valid_true, y_valid_pred, m, verbose = False):\n",
    "    \"\"\"\n",
    "    calculates scores, updates dictionary with relevant scores\n",
    "    if verbose is true, also prints out results\n",
    "    returns a dictionary\n",
    "    \"\"\"\n",
    "    \n",
    "    scoring_dictionary = {}\n",
    "    \n",
    "    scoring_dictionary['train_accuracy'] = accuracy_score(y_train_true, y_train_pred)\n",
    "    scoring_dictionary['validation_accuracy'] = accuracy_score(y_valid_true, y_valid_pred)\n",
    "    scoring_dictionary['train_f1'] = f1_score(y_train_true, y_train_pred)\n",
    "    scoring_dictionary['validation_f1'] = f1_score(y_valid_true, y_valid_pred)\n",
    "    scoring_dictionary['train_auc'] = roc_auc_score(y_train_true, y_train_pred)\n",
    "    scoring_dictionary['validation_auc'] = roc_auc_score(y_valid_true, y_valid_pred)\n",
    "    scoring_dictionary['train_zweigcampbell'] = \\\n",
    "        calculate_zweig_campbell_score(y_train_true, y_train_pred, m)\n",
    "    scoring_dictionary['validation_zweigcampbell'] = \\\n",
    "        calculate_zweig_campbell_score(y_valid_true, y_valid_pred, m)\n",
    "    \n",
    "    if verbose:\n",
    "        print(\"Train accuracy : \" + str(scoring_dictionary['train_accuracy']))\n",
    "        print(\"Validation accuracy : \" + str(scoring_dictionary['validation_accuracy']))\n",
    "        print(\"Train F1 : \" + str(scoring_dictionary['train_f1']))\n",
    "        print(\"Validation F1 : \" + str(scoring_dictionary['validation_f1']))\n",
    "        print(\"Train AUC : \" + str(scoring_dictionary['train_auc']))\n",
    "        print(\"Validation AUC : \" + str(scoring_dictionary['validation_auc']))\n",
    "        print(\"Train Zweig-Campbell : \" + str(scoring_dictionary['train_zweigcampbell']))\n",
    "        print(\"Validation Zweig-Campbell : \" + str(scoring_dictionary['validation_zweigcampbell']))\n",
    "        \n",
    "    return scoring_dictionary\n",
    "    \n",
    "    \n",
    "def calculate_zweig_campbell_score(y_true, y_pred, m):\n",
    "    \"\"\"\n",
    "    calculates tpr - m * fpr\n",
    "    \"\"\"\n",
    "    \n",
    "    tn, fp, fn, tp = confusion_matrix(y_true, y_pred).ravel()\n",
    "\n",
    "    fpr = fp / (fp + tn)\n",
    "    tpr = tp / (tp + fn)\n",
    "\n",
    "    return tpr - fpr * m\n",
    "    "
   ]
  },
  {
   "cell_type": "code",
   "execution_count": 176,
   "metadata": {},
   "outputs": [
    {
     "name": "stdout",
     "output_type": "stream",
     "text": [
      "Train accuracy : 0.8421119110774283\n",
      "Validation accuracy : 0.8516666666666667\n",
      "Train F1 : 0.8507819028291752\n",
      "Validation F1 : 0.8615001556178026\n",
      "Train AUC : 0.8424693839181233\n",
      "Validation AUC : 0.8508712660028449\n",
      "Train Zweig-Campbell : 0.7195757113821138\n",
      "Validation Zweig-Campbell : 0.7345506545337057\n"
     ]
    }
   ],
   "source": [
    "logreg_scores = calculate_scores(\n",
    "    y_train_logreg, y_train_prediction_logreg, \n",
    "    y_valid_logreg, y_valid_prediction_logreg, \n",
    "    m, verbose = True\n",
    "    )"
   ]
  },
  {
   "cell_type": "markdown",
   "metadata": {},
   "source": [
    "# Decision Tree"
   ]
  },
  {
   "cell_type": "markdown",
   "metadata": {},
   "source": [
    "In this section, longreg on Searching for best estimator with grid search. \n",
    "\n",
    "`class_weight`: we use this to encounter for the cost imbalance, as decided above, FN has a higher cost for us, than FP. class 0 (IsCanceled = 0) has a higher cost in our case, "
   ]
  },
  {
   "cell_type": "code",
   "execution_count": 156,
   "metadata": {},
   "outputs": [],
   "source": [
    "dtc = DecisionTreeClassifier(class_weight = {0: 1, 1: cost_ratio})"
   ]
  },
  {
   "cell_type": "markdown",
   "metadata": {},
   "source": [
    "## GSCV Iteration 1"
   ]
  },
  {
   "cell_type": "code",
   "execution_count": 157,
   "metadata": {},
   "outputs": [
    {
     "data": {
      "text/plain": [
       "GridSearchCV(cv=KFold(n_splits=5, random_state=12345, shuffle=True),\n",
       "             error_score=nan,\n",
       "             estimator=DecisionTreeClassifier(ccp_alpha=0.0,\n",
       "                                              class_weight={0: 1,\n",
       "                                                            1: 0.8333333333333334},\n",
       "                                              criterion='gini', max_depth=None,\n",
       "                                              max_features=None,\n",
       "                                              max_leaf_nodes=None,\n",
       "                                              min_impurity_decrease=0.0,\n",
       "                                              min_impurity_split=None,\n",
       "                                              min_samples_leaf=1,\n",
       "                                              min_samples_split=2,\n",
       "                                              min_weight_fraction_leaf=0.0,\n",
       "                                              presort='deprecated',\n",
       "                                              random_state=None,\n",
       "                                              splitter='best'),\n",
       "             iid='deprecated', n_jobs=None,\n",
       "             param_grid={'criterion': ['gini', 'entropy'],\n",
       "                         'max_depth': [2, 5, 10, 20, 50],\n",
       "                         'max_features': [5, 10, 20, 50],\n",
       "                         'min_samples_leaf': [5, 10, 20, 50]},\n",
       "             pre_dispatch='2*n_jobs', refit=True, return_train_score=False,\n",
       "             scoring='roc_auc', verbose=0)"
      ]
     },
     "execution_count": 157,
     "metadata": {},
     "output_type": "execute_result"
    }
   ],
   "source": [
    "param_grid = {\n",
    "    'criterion': ['gini', 'entropy'],\n",
    "    'max_depth':[2, 5, 10, 20, 50], \n",
    "    'min_samples_leaf':[5, 10, 20, 50],\n",
    "    'max_features': [5, 10, 20, 50]\n",
    "}\n",
    "\n",
    "gs_dtree = GridSearchCV(dtc, param_grid, scoring = 'roc_auc', cv = cv)\n",
    "\n",
    "gs_dtree.fit(X_train_dtree, y_train_dtree)"
   ]
  },
  {
   "cell_type": "code",
   "execution_count": 158,
   "metadata": {},
   "outputs": [
    {
     "data": {
      "text/plain": [
       "0.9345732523038495"
      ]
     },
     "execution_count": 158,
     "metadata": {},
     "output_type": "execute_result"
    }
   ],
   "source": [
    "gs_dtree.best_score_"
   ]
  },
  {
   "cell_type": "code",
   "execution_count": 159,
   "metadata": {},
   "outputs": [
    {
     "data": {
      "text/plain": [
       "DecisionTreeClassifier(ccp_alpha=0.0,\n",
       "                       class_weight={0: 1, 1: 0.8333333333333334},\n",
       "                       criterion='entropy', max_depth=20, max_features=50,\n",
       "                       max_leaf_nodes=None, min_impurity_decrease=0.0,\n",
       "                       min_impurity_split=None, min_samples_leaf=20,\n",
       "                       min_samples_split=2, min_weight_fraction_leaf=0.0,\n",
       "                       presort='deprecated', random_state=None,\n",
       "                       splitter='best')"
      ]
     },
     "execution_count": 159,
     "metadata": {},
     "output_type": "execute_result"
    }
   ],
   "source": [
    "gs_dtree.best_estimator_"
   ]
  },
  {
   "cell_type": "markdown",
   "metadata": {},
   "source": [
    "The limiting factor is probably the `min_sample_leaf`. "
   ]
  },
  {
   "cell_type": "markdown",
   "metadata": {},
   "source": [
    "## GSCV Iteration 2"
   ]
  },
  {
   "cell_type": "code",
   "execution_count": 160,
   "metadata": {},
   "outputs": [
    {
     "data": {
      "text/plain": [
       "GridSearchCV(cv=KFold(n_splits=5, random_state=12345, shuffle=True),\n",
       "             error_score=nan,\n",
       "             estimator=DecisionTreeClassifier(ccp_alpha=0.0,\n",
       "                                              class_weight={0: 1,\n",
       "                                                            1: 0.8333333333333334},\n",
       "                                              criterion='gini', max_depth=None,\n",
       "                                              max_features=None,\n",
       "                                              max_leaf_nodes=None,\n",
       "                                              min_impurity_decrease=0.0,\n",
       "                                              min_impurity_split=None,\n",
       "                                              min_samples_leaf=1,\n",
       "                                              min_samples_split=2,\n",
       "                                              min_weight_fraction_leaf=0.0,\n",
       "                                              presort='deprecated',\n",
       "                                              random_state=None,\n",
       "                                              splitter='best'),\n",
       "             iid='deprecated', n_jobs=None,\n",
       "             param_grid={'criterion': ['entropy'], 'max_depth': [15, 20, 30],\n",
       "                         'max_features': [30, 50, 65],\n",
       "                         'min_samples_leaf': [15, 20, 30]},\n",
       "             pre_dispatch='2*n_jobs', refit=True, return_train_score=False,\n",
       "             scoring='roc_auc', verbose=0)"
      ]
     },
     "execution_count": 160,
     "metadata": {},
     "output_type": "execute_result"
    }
   ],
   "source": [
    "param_grid_2 = {\n",
    "    'criterion': ['entropy'],\n",
    "    'max_depth':[15, 20, 30], \n",
    "    'min_samples_leaf':[15, 20, 30],\n",
    "    'max_features': [30, 50, 65]\n",
    "}\n",
    "\n",
    "gs_dtree_2 = GridSearchCV(dtc, param_grid_2, scoring = 'roc_auc', cv = cv)\n",
    "\n",
    "gs_dtree_2.fit(X_train_dtree, y_train_dtree)"
   ]
  },
  {
   "cell_type": "code",
   "execution_count": 161,
   "metadata": {},
   "outputs": [
    {
     "data": {
      "text/plain": [
       "0.9366248308500268"
      ]
     },
     "execution_count": 161,
     "metadata": {},
     "output_type": "execute_result"
    }
   ],
   "source": [
    "gs_dtree_2.best_score_"
   ]
  },
  {
   "cell_type": "code",
   "execution_count": 162,
   "metadata": {},
   "outputs": [
    {
     "data": {
      "text/plain": [
       "DecisionTreeClassifier(ccp_alpha=0.0,\n",
       "                       class_weight={0: 1, 1: 0.8333333333333334},\n",
       "                       criterion='entropy', max_depth=15, max_features=65,\n",
       "                       max_leaf_nodes=None, min_impurity_decrease=0.0,\n",
       "                       min_impurity_split=None, min_samples_leaf=20,\n",
       "                       min_samples_split=2, min_weight_fraction_leaf=0.0,\n",
       "                       presort='deprecated', random_state=None,\n",
       "                       splitter='best')"
      ]
     },
     "execution_count": 162,
     "metadata": {},
     "output_type": "execute_result"
    }
   ],
   "source": [
    "gs_dtree_2.best_estimator_"
   ]
  },
  {
   "cell_type": "markdown",
   "metadata": {},
   "source": [
    "OK, not much increase, keeping the parameters as they are, limiting max_features."
   ]
  },
  {
   "cell_type": "markdown",
   "metadata": {},
   "source": [
    "## Fitting the Chosen Model & Threshold Selection"
   ]
  },
  {
   "cell_type": "code",
   "execution_count": 99,
   "metadata": {},
   "outputs": [],
   "source": [
    "chosen_criterion = gs_dtree_2.best_estimator_.criterion\n",
    "chosen_max_depth = gs_dtree_2.best_estimator_.max_depth\n",
    "chosen_min_samples_leaf = gs_dtree_2.best_estimator_.min_samples_leaf"
   ]
  },
  {
   "cell_type": "code",
   "execution_count": 165,
   "metadata": {},
   "outputs": [
    {
     "data": {
      "text/plain": [
       "0.9676925125034972"
      ]
     },
     "execution_count": 165,
     "metadata": {},
     "output_type": "execute_result"
    }
   ],
   "source": [
    "dtree_chosen = DecisionTreeClassifier(\n",
    "    criterion = chosen_criterion, max_depth = chosen_max_depth, \n",
    "    min_samples_leaf = chosen_min_samples_leaf\n",
    "    )\n",
    "\n",
    "dtree_chosen.fit(X_train_dtree, y_train_dtree)\n",
    "\n",
    "y_train_prediction_probabilities_dtree = dtree_chosen.predict_proba(X_train_dtree)\n",
    "\n",
    "fpr_train_dtree, tpr_train_dtree, thresholds_train_dtree = \\\n",
    "    roc_curve(y_train_dtree, y_train_prediction_probabilities_dtree[:,1])\n",
    "\n",
    "auc(fpr_train_dtree, tpr_train_dtree)"
   ]
  },
  {
   "cell_type": "code",
   "execution_count": 168,
   "metadata": {},
   "outputs": [
    {
     "data": {
      "text/plain": [
       "0.46153846153846156"
      ]
     },
     "execution_count": 168,
     "metadata": {},
     "output_type": "execute_result"
    }
   ],
   "source": [
    "zweig_campbell_scores_train_dtree = \\\n",
    "    tpr_train_dtree - m * fpr_train_dtree\n",
    "\n",
    "chosen_threshold_dtree = \\\n",
    "    thresholds_train_dtree[np.argmax(zweig_campbell_scores_train_dtree)]\n",
    "\n",
    "chosen_threshold_dtree"
   ]
  },
  {
   "cell_type": "code",
   "execution_count": 169,
   "metadata": {},
   "outputs": [],
   "source": [
    "y_train_prediction_dtree = (y_train_prediction_probabilities_dtree[:,1] > chosen_threshold_dtree) * 1"
   ]
  },
  {
   "cell_type": "markdown",
   "metadata": {},
   "source": [
    "## Validation and Visualisation"
   ]
  },
  {
   "cell_type": "code",
   "execution_count": 170,
   "metadata": {},
   "outputs": [],
   "source": [
    "y_valid_prediction_probabilities_dtree = \\\n",
    "    dtree_chosen.predict_proba(X_valid_dtree)\n",
    "\n",
    "fpr_valid_dtree, tpr_valid_dtree, thresholds_valid_dtree = \\\n",
    "    roc_curve(y_valid_dtree, y_valid_prediction_probabilities_dtree[:,1])"
   ]
  },
  {
   "cell_type": "code",
   "execution_count": 171,
   "metadata": {},
   "outputs": [
    {
     "data": {
      "text/plain": [
       "[<matplotlib.lines.Line2D at 0x1a2048f710>]"
      ]
     },
     "execution_count": 171,
     "metadata": {},
     "output_type": "execute_result"
    },
    {
     "data": {
      "image/png": "[encoded data removed]",
      "text/plain": [
       "<Figure size 432x288 with 1 Axes>"
      ]
     },
     "metadata": {
      "needs_background": "light"
     },
     "output_type": "display_data"
    }
   ],
   "source": [
    "plt.plot(fpr_train_dtree, tpr_train_dtree)\n",
    "plt.plot(fpr_valid_dtree, tpr_valid_dtree)"
   ]
  },
  {
   "cell_type": "code",
   "execution_count": 173,
   "metadata": {},
   "outputs": [],
   "source": [
    "y_valid_prediction_dtree = \\\n",
    "    (y_valid_prediction_probabilities_dtree[:,1] > chosen_threshold_dtree) * 1"
   ]
  },
  {
   "cell_type": "code",
   "execution_count": 177,
   "metadata": {},
   "outputs": [
    {
     "name": "stdout",
     "output_type": "stream",
     "text": [
      "Train accuracy : 0.8949728432487053\n",
      "Validation accuracy : 0.8713333333333333\n",
      "Train F1 : 0.8974659350144892\n",
      "Validation F1 : 0.8754034861200775\n",
      "Train AUC : 0.8951399674367881\n",
      "Validation AUC : 0.8710526315789473\n",
      "Train Zweig-Campbell : 0.811377879403794\n",
      "Validation Zweig-Campbell : 0.7656761473042362\n"
     ]
    }
   ],
   "source": [
    "dtree_scores = calculate_scores(\n",
    "    y_train_dtree, y_train_prediction_dtree, \n",
    "    y_valid_dtree, y_valid_prediction_dtree, \n",
    "    m, verbose = True\n",
    "    )"
   ]
  },
  {
   "cell_type": "markdown",
   "metadata": {},
   "source": [
    "# Random Forest - GridSearchCV"
   ]
  },
  {
   "cell_type": "code",
   "execution_count": 180,
   "metadata": {},
   "outputs": [],
   "source": [
    "rfc = RandomForestClassifier(class_weight = {0: 1, 1: cost_ratio}, oob_score=True)"
   ]
  },
  {
   "cell_type": "markdown",
   "metadata": {},
   "source": [
    "## GSCV Iteration 1"
   ]
  },
  {
   "cell_type": "code",
   "execution_count": 189,
   "metadata": {},
   "outputs": [
    {
     "data": {
      "text/plain": [
       "GridSearchCV(cv=KFold(n_splits=5, random_state=12345, shuffle=True),\n",
       "             error_score=nan,\n",
       "             estimator=RandomForestClassifier(bootstrap=True, ccp_alpha=0.0,\n",
       "                                              class_weight={0: 1,\n",
       "                                                            1: 0.8333333333333334},\n",
       "                                              criterion='gini', max_depth=None,\n",
       "                                              max_features='auto',\n",
       "                                              max_leaf_nodes=None,\n",
       "                                              max_samples=None,\n",
       "                                              min_impurity_decrease=0.0,\n",
       "                                              min_impurity_split=None,\n",
       "                                              min_samples_leaf=1,\n",
       "                                              min_samp...\n",
       "                                              n_estimators=100, n_jobs=None,\n",
       "                                              oob_score=True, random_state=None,\n",
       "                                              verbose=0, warm_start=False),\n",
       "             iid='deprecated', n_jobs=None,\n",
       "             param_grid={'criterion': ['gini', 'entropy'],\n",
       "                         'max_depth': [10, 20, 50],\n",
       "                         'max_features': [10, 20, 50],\n",
       "                         'min_samples_leaf': [10, 20, 50],\n",
       "                         'n_estimators': [50, 100]},\n",
       "             pre_dispatch='2*n_jobs', refit=True, return_train_score=False,\n",
       "             scoring='roc_auc', verbose=0)"
      ]
     },
     "execution_count": 189,
     "metadata": {},
     "output_type": "execute_result"
    }
   ],
   "source": [
    "# runs for 10 minutes\n",
    "\n",
    "param_grid = {\n",
    "    'criterion': ['gini', 'entropy'],\n",
    "    'n_estimators':[50,100], \n",
    "    'max_depth': [10, 20, 50],\n",
    "    'min_samples_leaf':[10, 20, 50],\n",
    "    'max_features': [10, 20, 50]\n",
    "}\n",
    "\n",
    "gs_rfc = GridSearchCV(rfc, param_grid, scoring = 'roc_auc', cv = cv)\n",
    "\n",
    "gs_rfc.fit(X_train_dtree, y_train_dtree)"
   ]
  },
  {
   "cell_type": "code",
   "execution_count": 192,
   "metadata": {},
   "outputs": [
    {
     "data": {
      "text/plain": [
       "0.9546300727874307"
      ]
     },
     "execution_count": 192,
     "metadata": {},
     "output_type": "execute_result"
    }
   ],
   "source": [
    "gs_rfc.best_score_"
   ]
  },
  {
   "cell_type": "code",
   "execution_count": 193,
   "metadata": {},
   "outputs": [
    {
     "data": {
      "text/plain": [
       "RandomForestClassifier(bootstrap=True, ccp_alpha=0.0,\n",
       "                       class_weight={0: 1, 1: 0.8333333333333334},\n",
       "                       criterion='entropy', max_depth=50, max_features=20,\n",
       "                       max_leaf_nodes=None, max_samples=None,\n",
       "                       min_impurity_decrease=0.0, min_impurity_split=None,\n",
       "                       min_samples_leaf=10, min_samples_split=2,\n",
       "                       min_weight_fraction_leaf=0.0, n_estimators=100,\n",
       "                       n_jobs=None, oob_score=True, random_state=None,\n",
       "                       verbose=0, warm_start=False)"
      ]
     },
     "execution_count": 193,
     "metadata": {},
     "output_type": "execute_result"
    }
   ],
   "source": [
    "gs_rfc.best_estimator_"
   ]
  },
  {
   "cell_type": "markdown",
   "metadata": {},
   "source": [
    "Runs for a very long time, and the chosen parameters are either in the middle, or we do not want to relax them any furthert (like max_depth and min_samples_leaf). "
   ]
  },
  {
   "cell_type": "markdown",
   "metadata": {},
   "source": [
    "## Fitting the Chosen Model & Threshold Selection"
   ]
  },
  {
   "cell_type": "code",
   "execution_count": 198,
   "metadata": {},
   "outputs": [],
   "source": [
    "chosen_criterion = gs_rfc.best_estimator_.criterion\n",
    "chosen_n_estimators = gs_rfc.best_estimator_.n_estimators\n",
    "chosen_max_depth = gs_rfc.best_estimator_.max_depth\n",
    "chosen_min_samples_leaf = gs_rfc.best_estimator_.min_samples_leaf\n",
    "chosen_max_features = gs_rfc.best_estimator_.max_features"
   ]
  },
  {
   "cell_type": "code",
   "execution_count": 201,
   "metadata": {},
   "outputs": [
    {
     "data": {
      "text/plain": [
       "0.9780840901676255"
      ]
     },
     "execution_count": 201,
     "metadata": {},
     "output_type": "execute_result"
    }
   ],
   "source": [
    "rcfgs_chosen = RandomForestClassifier(\n",
    "    criterion = chosen_criterion, \n",
    "    n_estimators = chosen_n_estimators,\n",
    "    max_depth = chosen_max_depth, \n",
    "    min_samples_leaf = chosen_min_samples_leaf,\n",
    "    max_features = chosen_max_features\n",
    "    )\n",
    "\n",
    "rcfgs_chosen.fit(X_train_dtree, y_train_dtree)\n",
    "\n",
    "y_train_prediction_probabilities_rcfgs = rcfgs_chosen.predict_proba(X_train_dtree)\n",
    "\n",
    "fpr_train_rcfgs, tpr_train_rcfgs, thresholds_train_rcfgs = \\\n",
    "    roc_curve(y_train_dtree, y_train_prediction_probabilities_rcfgs[:,1])\n",
    "\n",
    "auc(fpr_train_rcfgs, tpr_train_rcfgs)"
   ]
  },
  {
   "cell_type": "code",
   "execution_count": 202,
   "metadata": {},
   "outputs": [
    {
     "data": {
      "text/plain": [
       "0.44382070493409226"
      ]
     },
     "execution_count": 202,
     "metadata": {},
     "output_type": "execute_result"
    }
   ],
   "source": [
    "zweig_campbell_scores_train_rcfgs = \\\n",
    "    tpr_train_rcfgs - m * fpr_train_rcfgs\n",
    "\n",
    "chosen_threshold_rcfgs = \\\n",
    "    thresholds_train_rcfgs[np.argmax(zweig_campbell_scores_train_rcfgs)]\n",
    "\n",
    "chosen_threshold_rcfgs"
   ]
  },
  {
   "cell_type": "code",
   "execution_count": 203,
   "metadata": {},
   "outputs": [],
   "source": [
    "y_train_prediction_rcfgs = (y_train_prediction_probabilities_rcfgs[:,1] > chosen_threshold_rcfgs) * 1"
   ]
  },
  {
   "cell_type": "markdown",
   "metadata": {},
   "source": [
    "## Validation and Visualisation"
   ]
  },
  {
   "cell_type": "code",
   "execution_count": 206,
   "metadata": {},
   "outputs": [],
   "source": [
    "y_valid_prediction_probabilities_rcfgs = \\\n",
    "    rcfgs_chosen.predict_proba(X_valid_dtree)\n",
    "\n",
    "fpr_valid_rcfgs, tpr_valid_rcfgs, thresholds_valid_rcfgs = \\\n",
    "    roc_curve(y_valid_dtree, y_valid_prediction_probabilities_rcfgs[:,1])"
   ]
  },
  {
   "cell_type": "code",
   "execution_count": 207,
   "metadata": {},
   "outputs": [
    {
     "data": {
      "text/plain": [
       "[<matplotlib.lines.Line2D at 0x1a288ac610>]"
      ]
     },
     "execution_count": 207,
     "metadata": {},
     "output_type": "execute_result"
    },
    {
     "data": {
      "image/png": "[encoded data removed]",
      "text/plain": [
       "<Figure size 432x288 with 1 Axes>"
      ]
     },
     "metadata": {
      "needs_background": "light"
     },
     "output_type": "display_data"
    }
   ],
   "source": [
    "plt.plot(fpr_train_rcfgs, tpr_train_rcfgs)\n",
    "plt.plot(fpr_valid_rcfgs, tpr_valid_rcfgs)"
   ]
  },
  {
   "cell_type": "code",
   "execution_count": 208,
   "metadata": {},
   "outputs": [],
   "source": [
    "y_valid_prediction_rcfgs = \\\n",
    "    (y_valid_prediction_probabilities_rcfgs[:,1] > chosen_threshold_rcfgs) * 1"
   ]
  },
  {
   "cell_type": "code",
   "execution_count": 210,
   "metadata": {},
   "outputs": [
    {
     "name": "stdout",
     "output_type": "stream",
     "text": [
      "Train accuracy : 0.9095617026651509\n",
      "Validation accuracy : 0.8963333333333333\n",
      "Train F1 : 0.9120285047303108\n",
      "Validation F1 : 0.9008606949314633\n",
      "Train AUC : 0.9097504782626009\n",
      "Validation AUC : 0.8958837126600284\n",
      "Train Zweig-Campbell : 0.8389015921409214\n",
      "Validation Zweig-Campbell : 0.813427156697776\n"
     ]
    }
   ],
   "source": [
    "rcfgs_scores = calculate_scores(\n",
    "    y_train_dtree, y_train_prediction_rcfgs, \n",
    "    y_valid_dtree, y_valid_prediction_rcfgs, \n",
    "    m, verbose = True\n",
    "    )"
   ]
  },
  {
   "cell_type": "markdown",
   "metadata": {},
   "source": [
    "# Random Forest - No Hyperparameter Restrictions"
   ]
  },
  {
   "cell_type": "markdown",
   "metadata": {},
   "source": [
    "Testing if random forest can avoid overfitting via OOB score, which should work similarly to k-fold. "
   ]
  },
  {
   "cell_type": "code",
   "execution_count": 197,
   "metadata": {},
   "outputs": [],
   "source": [
    "rfc_chosen = RandomForestClassifier(class_weight = {0: 1, 1: cost_ratio}, oob_score=True)"
   ]
  },
  {
   "cell_type": "markdown",
   "metadata": {},
   "source": [
    "## Model Fitting & Threshold Selection"
   ]
  },
  {
   "cell_type": "code",
   "execution_count": 212,
   "metadata": {},
   "outputs": [
    {
     "data": {
      "text/plain": [
       "RandomForestClassifier(bootstrap=True, ccp_alpha=0.0,\n",
       "                       class_weight={0: 1, 1: 0.8333333333333334},\n",
       "                       criterion='gini', max_depth=None, max_features='auto',\n",
       "                       max_leaf_nodes=None, max_samples=None,\n",
       "                       min_impurity_decrease=0.0, min_impurity_split=None,\n",
       "                       min_samples_leaf=1, min_samples_split=2,\n",
       "                       min_weight_fraction_leaf=0.0, n_estimators=100,\n",
       "                       n_jobs=None, oob_score=True, random_state=None,\n",
       "                       verbose=0, warm_start=False)"
      ]
     },
     "execution_count": 212,
     "metadata": {},
     "output_type": "execute_result"
    }
   ],
   "source": [
    "rfc_chosen.fit(X_train_dtree, y_train_dtree)"
   ]
  },
  {
   "cell_type": "code",
   "execution_count": 213,
   "metadata": {},
   "outputs": [
    {
     "data": {
      "text/plain": [
       "0.9999260253352816"
      ]
     },
     "execution_count": 213,
     "metadata": {},
     "output_type": "execute_result"
    }
   ],
   "source": [
    "y_train_prediction_probabilities_rfc = rfc.predict_proba(X_train_dtree)\n",
    "\n",
    "fpr_train_rfc, tpr_train_rfc, thresholds_train_rfc = \\\n",
    "    roc_curve(y_train_dtree, y_train_prediction_probabilities_rfc[:,1])\n",
    "\n",
    "auc(fpr_train_rfc, tpr_train_rfc)"
   ]
  },
  {
   "cell_type": "code",
   "execution_count": 214,
   "metadata": {},
   "outputs": [
    {
     "data": {
      "text/plain": [
       "0.43205292327734773"
      ]
     },
     "execution_count": 214,
     "metadata": {},
     "output_type": "execute_result"
    }
   ],
   "source": [
    "zweig_campbell_scores_train_rfc = \\\n",
    "    tpr_train_rfc - m * fpr_train_rfc\n",
    "\n",
    "chosen_threshold_rfc = \\\n",
    "    thresholds_train_rfc[np.argmax(zweig_campbell_scores_train_rfc)]\n",
    "\n",
    "chosen_threshold_rfc"
   ]
  },
  {
   "cell_type": "code",
   "execution_count": 215,
   "metadata": {},
   "outputs": [],
   "source": [
    "y_train_prediction_rfc = (y_train_prediction_probabilities_rfc[:,1] > chosen_threshold_rfc) * 1"
   ]
  },
  {
   "cell_type": "markdown",
   "metadata": {},
   "source": [
    "## Validation and Visualisation"
   ]
  },
  {
   "cell_type": "code",
   "execution_count": 217,
   "metadata": {},
   "outputs": [],
   "source": [
    "y_valid_prediction_probabilities_rfc = \\\n",
    "    rfc_chosen.predict_proba(X_valid_dtree)\n",
    "\n",
    "fpr_valid_rfc, tpr_valid_rfc, thresholds_valid_rfc = \\\n",
    "    roc_curve(y_valid_dtree, y_valid_prediction_probabilities_rfc[:,1])"
   ]
  },
  {
   "cell_type": "code",
   "execution_count": 218,
   "metadata": {},
   "outputs": [
    {
     "data": {
      "text/plain": [
       "[<matplotlib.lines.Line2D at 0x1a287a96d0>]"
      ]
     },
     "execution_count": 218,
     "metadata": {},
     "output_type": "execute_result"
    },
    {
     "data": {
      "image/png": "[encoded data removed]",
      "text/plain": [
       "<Figure size 432x288 with 1 Axes>"
      ]
     },
     "metadata": {
      "needs_background": "light"
     },
     "output_type": "display_data"
    }
   ],
   "source": [
    "plt.plot(fpr_train_rfc, tpr_train_rfc)\n",
    "plt.plot(fpr_valid_rfc, tpr_valid_rfc)"
   ]
  },
  {
   "cell_type": "code",
   "execution_count": 219,
   "metadata": {},
   "outputs": [],
   "source": [
    "y_valid_prediction_rfc = \\\n",
    "    (y_valid_prediction_probabilities_rfc[:,1] > chosen_threshold_rfc) * 1"
   ]
  },
  {
   "cell_type": "code",
   "execution_count": 220,
   "metadata": {},
   "outputs": [
    {
     "name": "stdout",
     "output_type": "stream",
     "text": [
      "Train accuracy : 0.9980421876973601\n",
      "Validation accuracy : 0.9016666666666666\n",
      "Train F1 : 0.9980333692824971\n",
      "Validation F1 : 0.9059611093401339\n",
      "Train AUC : 0.9980489451418629\n",
      "Validation AUC : 0.9012179943100996\n",
      "Train Zweig-Campbell : 0.9965912940379404\n",
      "Validation Zweig-Campbell : 0.8232463187674195\n"
     ]
    }
   ],
   "source": [
    "rfc_scores = calculate_scores(\n",
    "    y_train_dtree, y_train_prediction_rfc, \n",
    "    y_valid_dtree, y_valid_prediction_rfc, \n",
    "    m, verbose = True\n",
    "    )"
   ]
  },
  {
   "cell_type": "markdown",
   "metadata": {},
   "source": [
    "Excluding this for overfitting. "
   ]
  },
  {
   "cell_type": "markdown",
   "metadata": {},
   "source": [
    "# Gradient Boosting with XGBoost - GridSearchCV"
   ]
  },
  {
   "cell_type": "code",
   "execution_count": null,
   "metadata": {},
   "outputs": [],
   "source": []
  },
  {
   "cell_type": "code",
   "execution_count": null,
   "metadata": {},
   "outputs": [],
   "source": []
  },
  {
   "cell_type": "code",
   "execution_count": null,
   "metadata": {},
   "outputs": [],
   "source": []
  },
  {
   "cell_type": "code",
   "execution_count": null,
   "metadata": {},
   "outputs": [],
   "source": []
  },
  {
   "cell_type": "markdown",
   "metadata": {},
   "source": [
    "# Gradient Boosting with XGBoost - No Hyperparameter Tuning"
   ]
  },
  {
   "cell_type": "code",
   "execution_count": 224,
   "metadata": {},
   "outputs": [],
   "source": [
    "xgbc = XGBClassifier()"
   ]
  },
  {
   "cell_type": "code",
   "execution_count": null,
   "metadata": {},
   "outputs": [],
   "source": []
  },
  {
   "cell_type": "code",
   "execution_count": null,
   "metadata": {},
   "outputs": [],
   "source": []
  },
  {
   "cell_type": "code",
   "execution_count": null,
   "metadata": {},
   "outputs": [],
   "source": []
  },
  {
   "cell_type": "code",
   "execution_count": null,
   "metadata": {},
   "outputs": [],
   "source": []
  },
  {
   "cell_type": "markdown",
   "metadata": {
    "heading_collapsed": true
   },
   "source": [
    "# Technical Appendix"
   ]
  },
  {
   "cell_type": "markdown",
   "metadata": {
    "hidden": true
   },
   "source": [
    "Extra models that did not make the cut due to different considerations. "
   ]
  },
  {
   "cell_type": "markdown",
   "metadata": {
    "hidden": true
   },
   "source": [
    "## K-Nearest Neighbors"
   ]
  },
  {
   "cell_type": "code",
   "execution_count": 1,
   "metadata": {
    "hidden": true
   },
   "outputs": [],
   "source": [
    "# lets try one first"
   ]
  },
  {
   "cell_type": "code",
   "execution_count": 10,
   "metadata": {
    "hidden": true
   },
   "outputs": [],
   "source": [
    "knn = KNeighborsClassifier(n_neighbors = 5, metric = 'minkowski', p = 2)"
   ]
  },
  {
   "cell_type": "code",
   "execution_count": 11,
   "metadata": {
    "hidden": true
   },
   "outputs": [
    {
     "data": {
      "text/plain": [
       "KNeighborsClassifier(algorithm='auto', leaf_size=30, metric='minkowski',\n",
       "                     metric_params=None, n_jobs=None, n_neighbors=5, p=2,\n",
       "                     weights='uniform')"
      ]
     },
     "execution_count": 11,
     "metadata": {},
     "output_type": "execute_result"
    }
   ],
   "source": [
    "knn.fit(X_train_scaled, y_train)"
   ]
  },
  {
   "cell_type": "code",
   "execution_count": 16,
   "metadata": {
    "hidden": true
   },
   "outputs": [],
   "source": [
    "knn = KNeighborsClassifier(metric = 'minkowski')\n",
    "\n",
    "parameters_knn = {'n_neighbors': [3, 5, 9], 'p': [1,2,3]}\n",
    "\n",
    "gscv_knn = GridSearchCV(knn, param_grid = parameters_knn, cv = cv, scoring = 'accuracy')"
   ]
  },
  {
   "cell_type": "code",
   "execution_count": 17,
   "metadata": {
    "hidden": true
   },
   "outputs": [
    {
     "data": {
      "text/plain": [
       "GridSearchCV(cv=KFold(n_splits=5, random_state=12345, shuffle=True),\n",
       "             error_score=nan,\n",
       "             estimator=KNeighborsClassifier(algorithm='auto', leaf_size=30,\n",
       "                                            metric='minkowski',\n",
       "                                            metric_params=None, n_jobs=None,\n",
       "                                            n_neighbors=5, p=2,\n",
       "                                            weights='uniform'),\n",
       "             iid='deprecated', n_jobs=None,\n",
       "             param_grid={'n_neighbors': [3, 5, 9], 'p': [1, 2, 3]},\n",
       "             pre_dispatch='2*n_jobs', refit=True, return_train_score=False,\n",
       "             scoring='accuracy', verbose=0)"
      ]
     },
     "execution_count": 17,
     "metadata": {},
     "output_type": "execute_result"
    }
   ],
   "source": [
    "# runs for approx. 10 minutes\n",
    "gscv_knn.fit(X_train_scaled, y_train)"
   ]
  },
  {
   "cell_type": "code",
   "execution_count": 18,
   "metadata": {
    "hidden": true
   },
   "outputs": [
    {
     "data": {
      "text/plain": [
       "KNeighborsClassifier(algorithm='auto', leaf_size=30, metric='minkowski',\n",
       "                     metric_params=None, n_jobs=None, n_neighbors=3, p=2,\n",
       "                     weights='uniform')"
      ]
     },
     "execution_count": 18,
     "metadata": {},
     "output_type": "execute_result"
    }
   ],
   "source": [
    "gscv_knn.best_estimator_"
   ]
  },
  {
   "cell_type": "markdown",
   "metadata": {
    "hidden": true
   },
   "source": [
    "Interestingly, the lowest possible neighbor worked (want to keep it an odd number, n = 1 would be very overfit).\n",
    "Running with these parameters on the scoring split. "
   ]
  },
  {
   "cell_type": "code",
   "execution_count": 21,
   "metadata": {
    "hidden": true
   },
   "outputs": [
    {
     "data": {
      "text/plain": [
       "0.8346602928647384"
      ]
     },
     "execution_count": 21,
     "metadata": {},
     "output_type": "execute_result"
    }
   ],
   "source": [
    "gscv_knn.best_score_"
   ]
  },
  {
   "cell_type": "code",
   "execution_count": 26,
   "metadata": {
    "hidden": true
   },
   "outputs": [],
   "source": [
    "knn = KNeighborsClassifier(metric = 'minkowski', n_neighbors = 3, p = 2)\n",
    "knn.fit(X_scoring_train, y_scoring_train)\n",
    "y_scoring_test_predict_knn = knn.predict(X_scoring_test)"
   ]
  },
  {
   "cell_type": "code",
   "execution_count": 27,
   "metadata": {
    "hidden": true
   },
   "outputs": [
    {
     "data": {
      "text/plain": [
       "array([[1428,  336],\n",
       "       [ 247, 1483]])"
      ]
     },
     "execution_count": 27,
     "metadata": {},
     "output_type": "execute_result"
    }
   ],
   "source": [
    "confusion_matrix(y_scoring_test, y_scoring_test_predict_knn)"
   ]
  },
  {
   "cell_type": "code",
   "execution_count": 28,
   "metadata": {
    "hidden": true
   },
   "outputs": [
    {
     "data": {
      "text/plain": [
       "0.8331425300515168"
      ]
     },
     "execution_count": 28,
     "metadata": {},
     "output_type": "execute_result"
    }
   ],
   "source": [
    "accuracy_score(y_scoring_test, y_scoring_test_predict_knn)"
   ]
  }
 ],
 "metadata": {
  "kernelspec": {
   "display_name": "Python 3",
   "language": "python",
   "name": "python3"
  },
  "language_info": {
   "codemirror_mode": {
    "name": "ipython",
    "version": 3
   },
   "file_extension": ".py",
   "mimetype": "text/x-python",
   "name": "python",
   "nbconvert_exporter": "python",
   "pygments_lexer": "ipython3",
   "version": "3.7.4"
  },
  "toc": {
   "base_numbering": 1,
   "nav_menu": {},
   "number_sections": true,
   "sideBar": true,
   "skip_h1_title": false,
   "title_cell": "Table of Contents",
   "title_sidebar": "Contents",
   "toc_cell": false,
   "toc_position": {},
   "toc_section_display": true,
   "toc_window_display": true
  },
  "varInspector": {
   "cols": {
    "lenName": 16,
    "lenType": 16,
    "lenVar": 40
   },
   "kernels_config": {
    "python": {
     "delete_cmd_postfix": "",
     "delete_cmd_prefix": "del ",
     "library": "var_list.py",
     "varRefreshCmd": "print(var_dic_list())"
    },
    "r": {
     "delete_cmd_postfix": ") ",
     "delete_cmd_prefix": "rm(",
     "library": "var_list.r",
     "varRefreshCmd": "cat(var_dic_list()) "
    }
   },
   "types_to_exclude": [
    "module",
    "function",
    "builtin_function_or_method",
    "instance",
    "_Feature"
   ],
   "window_display": false
  }
 },
 "nbformat": 4,
 "nbformat_minor": 2
}
